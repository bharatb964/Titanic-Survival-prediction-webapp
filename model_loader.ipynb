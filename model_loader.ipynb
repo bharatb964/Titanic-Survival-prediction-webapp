{
 "cells": [
  {
   "cell_type": "code",
   "execution_count": 5,
   "metadata": {},
   "outputs": [],
   "source": [
    "from sklearn.externals import joblib\n",
    "import pandas as pd\n",
    "import numpy as np\n",
    "import pickle\n",
    "\n",
    "def addfeatures(data):\n",
    "    data['Title']=data.Name.str.extract('((?:Mr\\.|Mrs\\.|Miss\\.|Ms\\.))')[0].str.lower()\n",
    "    data['cabin_class']=data.Cabin.str.extract('(^[a-zA-Z])')[0].str.lower()\n",
    "    data['ticket_class']=data.Ticket.str.extract('^([\\w\\-]+)')[0].str.extract('([A-Za-z])')\n",
    "    data['Title']=data['Title'].fillna(data['Title'].mode()[0])\n",
    "    data['ticket_class']=data['ticket_class'].fillna(data['ticket_class'].mode()[0])\n",
    "    data=data.drop(['PassengerId','Name','Ticket','Cabin'],axis=1)\n",
    "    return data\n",
    "\n",
    "def ValuePredictor(to_predict_list):\n",
    "    val=pd.DataFrame.from_dict(to_predict_list,orient='index').T\n",
    "    val['Ticket']='CA. 2343'\n",
    "    val=addfeatures(val)\n",
    "    loaded_model = pickle.load(open(\"Webapp/flaskr/model.pkl\",\"rb\"))\n",
    "    result = loaded_model.predict(val)\n",
    "    return result\n",
    "to_predict_list={'PassengerId': '5', 'Age': '55', 'Fare': '55', 'Name': 'Mr. this is ', 'Pclass': '1', 'SibSp': '0', 'Parch': '0', 'Embarked': 'Q', 'Cabin': 'A', 'Sex': 'male'}\n",
    "\n"
   ]
  },
  {
   "cell_type": "code",
   "execution_count": 7,
   "metadata": {},
   "outputs": [
    {
     "name": "stderr",
     "output_type": "stream",
     "text": [
      "C:\\Users\\bhara\\Anaconda3\\lib\\site-packages\\sklearn\\pipeline.py:605: DataConversionWarning: Data with input dtype object were all converted to float64 by StandardScaler.\n",
      "  res = transformer.transform(X)\n"
     ]
    },
    {
     "data": {
      "text/plain": [
       "0"
      ]
     },
     "execution_count": 7,
     "metadata": {},
     "output_type": "execute_result"
    }
   ],
   "source": [
    "ValuePredictor(to_predict_list)[0]"
   ]
  },
  {
   "cell_type": "code",
   "execution_count": 4,
   "metadata": {},
   "outputs": [
    {
     "data": {
      "text/plain": [
       "Pipeline(memory=None,\n",
       "     steps=[('columntransformer', ColumnTransformer(n_jobs=None, remainder='drop', sparse_threshold=0.3,\n",
       "         transformer_weights=None,\n",
       "         transformers=[('standardscaler', StandardScaler(copy=True, with_mean=True, with_std=True), ['Age', 'Fare']), ('onehotencoder', OneHotEncoder(categorical_fea...mators=100, n_jobs=None,\n",
       "            oob_score=False, random_state=0, verbose=0, warm_start=False))])"
      ]
     },
     "execution_count": 4,
     "metadata": {},
     "output_type": "execute_result"
    }
   ],
   "source": [
    "import pickle\n",
    "pickle.load(open(\"Webapp/flaskr/model.pkl\",\"rb\"))"
   ]
  },
  {
   "cell_type": "code",
   "execution_count": null,
   "metadata": {},
   "outputs": [],
   "source": []
  },
  {
   "cell_type": "code",
   "execution_count": null,
   "metadata": {},
   "outputs": [],
   "source": []
  },
  {
   "cell_type": "code",
   "execution_count": null,
   "metadata": {},
   "outputs": [],
   "source": []
  },
  {
   "cell_type": "code",
   "execution_count": null,
   "metadata": {},
   "outputs": [],
   "source": []
  }
 ],
 "metadata": {
  "kernelspec": {
   "display_name": "Python 3",
   "language": "python",
   "name": "python3"
  },
  "language_info": {
   "codemirror_mode": {
    "name": "ipython",
    "version": 3
   },
   "file_extension": ".py",
   "mimetype": "text/x-python",
   "name": "python",
   "nbconvert_exporter": "python",
   "pygments_lexer": "ipython3",
   "version": "3.6.7"
  },
  "varInspector": {
   "cols": {
    "lenName": 16,
    "lenType": 16,
    "lenVar": 40
   },
   "kernels_config": {
    "python": {
     "delete_cmd_postfix": "",
     "delete_cmd_prefix": "del ",
     "library": "var_list.py",
     "varRefreshCmd": "print(var_dic_list())"
    },
    "r": {
     "delete_cmd_postfix": ") ",
     "delete_cmd_prefix": "rm(",
     "library": "var_list.r",
     "varRefreshCmd": "cat(var_dic_list()) "
    }
   },
   "types_to_exclude": [
    "module",
    "function",
    "builtin_function_or_method",
    "instance",
    "_Feature"
   ],
   "window_display": false
  }
 },
 "nbformat": 4,
 "nbformat_minor": 2
}
